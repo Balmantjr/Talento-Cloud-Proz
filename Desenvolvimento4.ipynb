{
  "nbformat": 4,
  "nbformat_minor": 0,
  "metadata": {
    "colab": {
      "provenance": [],
      "authorship_tag": "ABX9TyMJWuJOncPkbNYsEqA7pGxn",
      "include_colab_link": true
    },
    "kernelspec": {
      "name": "python3",
      "display_name": "Python 3"
    },
    "language_info": {
      "name": "python"
    }
  },
  "cells": [
    {
      "cell_type": "markdown",
      "metadata": {
        "id": "view-in-github",
        "colab_type": "text"
      },
      "source": [
        "<a href=\"https://colab.research.google.com/github/Balmantjr/Talento-Cloud-Proz/blob/main/Desenvolvimento4.ipynb\" target=\"_parent\"><img src=\"https://colab.research.google.com/assets/colab-badge.svg\" alt=\"Open In Colab\"/></a>"
      ]
    },
    {
      "cell_type": "code",
      "execution_count": null,
      "metadata": {
        "id": "0uNF8XmHOc7g"
      },
      "outputs": [],
      "source": [
        "#Faça uma função calculadora de dois números com três parâmetros: os dois primeiros serão os números da operação e o terceiro será a entrada que definirá a operação a ser executada. Considera a seguinte definição:\n",
        "#1. Soma\n",
        "#2. Subtração\n",
        "#3. Multiplicação\n",
        "#4. Divisão\n",
        "\n",
        "#Caso seja inserido um número de operação que não exista, o resultado deverá ser 0.\n"
      ]
    },
    {
      "cell_type": "code",
      "source": [
        "def calculadora(num1, num2, operacao):\n",
        "\n",
        "     if (operacao == 1):\n",
        "       return num1 + num2\n",
        "     elif (operacao == 2):\n",
        "       return num1 - num2\n",
        "     elif (operacao == 3):\n",
        "       return num1 * num2\n",
        "     elif (operacao == 4):\n",
        "       return num1 / num2\n",
        "     else:\n",
        "       return 0\n",
        "\n",
        "resultado = calculadora(4, 7, 1)\n",
        "\n",
        "print(resultado)"
      ],
      "metadata": {
        "colab": {
          "base_uri": "https://localhost:8080/"
        },
        "id": "k3XY4kD1OzoS",
        "outputId": "d41350ca-8c09-4074-8d08-d07b1713c0c2"
      },
      "execution_count": null,
      "outputs": [
        {
          "output_type": "stream",
          "name": "stdout",
          "text": [
            "11\n"
          ]
        }
      ]
    }
  ]
}