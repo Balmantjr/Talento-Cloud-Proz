{
  "nbformat": 4,
  "nbformat_minor": 0,
  "metadata": {
    "colab": {
      "provenance": [],
      "authorship_tag": "ABX9TyP48P+NmawGcyCoHCs8JhVY",
      "include_colab_link": true
    },
    "kernelspec": {
      "name": "python3",
      "display_name": "Python 3"
    },
    "language_info": {
      "name": "python"
    }
  },
  "cells": [
    {
      "cell_type": "markdown",
      "metadata": {
        "id": "view-in-github",
        "colab_type": "text"
      },
      "source": [
        "<a href=\"https://colab.research.google.com/github/Balmantjr/Talento-Cloud-Proz/blob/main/Desenvolvimento6.ipynb\" target=\"_parent\"><img src=\"https://colab.research.google.com/assets/colab-badge.svg\" alt=\"Open In Colab\"/></a>"
      ]
    },
    {
      "cell_type": "code",
      "execution_count": null,
      "metadata": {
        "id": "KjTW4hC9Eycl"
      },
      "outputs": [],
      "source": [
        "#Desenvolva um programa que recebe do usuário nome completo e ano de nascimento que seja entre 1922 e 2021.\n",
        "#A partir dessas informações, o sistema mostrará o nome do usuário e a idade que completou, ou completará, no ano atual (2022).\n",
        "\n",
        "#Caso o usuário não digite um número ou apareça um inválido no campo do ano, o sistema informará o erro e continuará perguntando até que um valor correto seja preenchido.\n",
        "\n",
        "#Entendendo o problema:\n",
        "\n",
        "#Entrada: Nome completo e ano de nascimento (entre 1922 e 2021).\n",
        "#processamento: Calcular a idade com base no ano atual de (2022) e o ano de nascimento.\n",
        "#Saída: Nome completo e idade calculada.\n",
        "#Validação: Verificar se o ano de nascimento é um número inteiro e se está dentro do intervalo válido."
      ]
    },
    {
      "cell_type": "code",
      "source": [
        "# Solicita o nome do usuário e armazena em uma variável\n",
        "print(\"Digite seu nome:\")\n",
        "nome = input()\n",
        "\n",
        "# Inicializa uma variável booleana para controlar o loop\n",
        "executar = True\n",
        "\n",
        "# Loop que se repete enquanto a variável 'executar' for True\n",
        "while executar == True:\n",
        "    # Solicita o ano de nascimento do usuário\n",
        "    print(\"Digite seu ano de nascimento\")\n",
        "\n",
        "    # Bloco try-except para tratar possíveis erros de entrada\n",
        "    try:\n",
        "        # Tenta converter a entrada do usuário em um número inteiro\n",
        "        ano = int(input())\n",
        "\n",
        "        # Verifica se o ano de nascimento está dentro do intervalo válido\n",
        "        if (ano < 1922) or (ano > 2021):\n",
        "            # Se o ano não estiver no intervalo, exibe uma mensagem de erro\n",
        "            print(\"O ano precisa ser entre 1922 e 2021\")\n",
        "        else:\n",
        "            # Calcula a idade subtraindo o ano de nascimento do ano atual (2022)\n",
        "            idade = 2022 - ano\n",
        "            # Exibe uma mensagem personalizada com o nome do usuário e sua idade\n",
        "            print(\"O usuário\", nome, \"completou ou completará\", idade, \"anos de idade em 2022\")\n",
        "\n",
        "            # Altera o valor da variável 'executar' para False, encerrando o loop\n",
        "            executar = False\n",
        "\n",
        "    # Se ocorrer um erro durante a conversão para inteiro, executa este bloco\n",
        "    except:\n",
        "        # Exibe uma mensagem de erro informando que a entrada deve ser um número\n",
        "        print(\"Os anos precisam ser escritos apenas com números\")"
      ],
      "metadata": {
        "colab": {
          "base_uri": "https://localhost:8080/"
        },
        "id": "Am0SYQppE-J9",
        "outputId": "ae98ec3e-a4bf-4da8-b3b7-ce0d2d4a5429"
      },
      "execution_count": null,
      "outputs": [
        {
          "output_type": "stream",
          "name": "stdout",
          "text": [
            "Digite seu nome:\n",
            "ricardo\n",
            "Digite seu ano de nascimento\n",
            "1999\n",
            "O usuário ricardo completou ou completará 23 anos de idade em 2022\n"
          ]
        }
      ]
    }
  ]
}