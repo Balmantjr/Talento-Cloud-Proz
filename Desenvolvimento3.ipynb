{
  "nbformat": 4,
  "nbformat_minor": 0,
  "metadata": {
    "colab": {
      "provenance": [],
      "authorship_tag": "ABX9TyOBO0aFk3UVh+vrj0axlnyo",
      "include_colab_link": true
    },
    "kernelspec": {
      "name": "python3",
      "display_name": "Python 3"
    },
    "language_info": {
      "name": "python"
    }
  },
  "cells": [
    {
      "cell_type": "markdown",
      "metadata": {
        "id": "view-in-github",
        "colab_type": "text"
      },
      "source": [
        "<a href=\"https://colab.research.google.com/github/Balmantjr/Talento-Cloud-Proz/blob/main/Desenvolvimento3.ipynb\" target=\"_parent\"><img src=\"https://colab.research.google.com/assets/colab-badge.svg\" alt=\"Open In Colab\"/></a>"
      ]
    },
    {
      "cell_type": "code",
      "source": [
        "#Precisamos imprimir um número para cada andar de um hotel de 20 andares. Porém, o dono do hotel é supersticioso e optou por não ter um 13ro andar.\n",
        "\n",
        "#Escreva um código que imprima todos os números exceto o número 13.\n",
        "\n",
        "#Escreva mais um código que resolva o mesmo problema, mas dessa vez usando o laço de repetição 'while'.\n",
        "\n",
        "#Como desafio, imprima eles em ordem decrescente (20, 19, 18...)\n",
        "\n",
        "# Imprimindo os números de 1 a 20, pulando o 13 (ordem crescente)\n",
        "for i in range(1, 21):\n",
        "    if (i == 13):\n",
        "        continue\n",
        "    else:\n",
        "        print(i)\n",
        "\n",
        "# Imprimindo os números de 1 a 20, pulando o 13 (ordem crescente), usando while\n",
        "contador = 1\n",
        "while (contador <= 20):\n",
        "    if(contador == 13):\n",
        "        contador = contador + 1\n",
        "        continue\n",
        "    else:\n",
        "        print(contador)\n",
        "    contador = contador + 1\n",
        "\n",
        "# Imprimindo os números de 20 a 1, pulando o 13 (ordem decrescente)\n",
        "for i in range(20, 0, -1):\n",
        "    if (i == 13):\n",
        "       continue\n",
        "    else:\n",
        "        print(i)\n"
      ],
      "metadata": {
        "colab": {
          "base_uri": "https://localhost:8080/"
        },
        "id": "WT9eiU1Q7VMQ",
        "outputId": "3c023324-aeb2-4566-a069-6006e5051f1c"
      },
      "execution_count": null,
      "outputs": [
        {
          "output_type": "stream",
          "name": "stdout",
          "text": [
            "1\n",
            "2\n",
            "3\n",
            "4\n",
            "5\n",
            "6\n",
            "7\n",
            "8\n",
            "9\n",
            "10\n",
            "11\n",
            "12\n",
            "14\n",
            "15\n",
            "16\n",
            "17\n",
            "18\n",
            "19\n",
            "20\n",
            "1\n",
            "2\n",
            "3\n",
            "4\n",
            "5\n",
            "6\n",
            "7\n",
            "8\n",
            "9\n",
            "10\n",
            "11\n",
            "12\n",
            "14\n",
            "15\n",
            "16\n",
            "17\n",
            "18\n",
            "19\n",
            "20\n",
            "20\n",
            "19\n",
            "18\n",
            "17\n",
            "16\n",
            "15\n",
            "14\n",
            "12\n",
            "11\n",
            "10\n",
            "9\n",
            "8\n",
            "7\n",
            "6\n",
            "5\n",
            "4\n",
            "3\n",
            "2\n",
            "1\n"
          ]
        }
      ]
    }
  ]
}